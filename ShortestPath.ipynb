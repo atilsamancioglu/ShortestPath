{
 "cells": [
  {
   "cell_type": "markdown",
   "metadata": {},
   "source": [
    "We can use Depth First Search or Breadth First Search for graph & tree traversals depending on the situation. \n",
    "Depth first search focuses on stack based approach to traverse the graph whereas in BFS we may use queues and \n",
    "produce better results if the target is closer to the source."
   ]
  },
  {
   "cell_type": "markdown",
   "metadata": {},
   "source": [
    "# DFS & BFS Implementation in a simple BST example"
   ]
  },
  {
   "cell_type": "code",
   "execution_count": 11,
   "metadata": {},
   "outputs": [],
   "source": [
    "class Node:\n",
    "    \n",
    "    def __init__(self, value):\n",
    "        self.value = value\n",
    "        self.left = None\n",
    "        self.right = None"
   ]
  },
  {
   "cell_type": "code",
   "execution_count": 12,
   "metadata": {},
   "outputs": [],
   "source": [
    "class BinarySearchTree:\n",
    "    \n",
    "    def __init__(self):\n",
    "        self.root = None\n",
    "\n",
    "    def insert(self, value):\n",
    "        \n",
    "        newNode = Node(value)\n",
    "        \n",
    "        if self.root is None:\n",
    "            \n",
    "            self.root = newNode\n",
    "            return True\n",
    "        \n",
    "        tempNode = self.root\n",
    "        \n",
    "        while True:\n",
    "            \n",
    "            if newNode.value == tempNode.value:\n",
    "                return False\n",
    "            \n",
    "            if newNode.value < tempNode.value:\n",
    "                if tempNode.left is None:\n",
    "                    tempNode.left = newNode\n",
    "                    return True\n",
    "                tempNode = tempNode.left\n",
    "            \n",
    "            else: \n",
    "                if tempNode.right is None:\n",
    "                    tempNode.right = newNode\n",
    "                    return True\n",
    "                tempNode = tempNode.right\n",
    "\n",
    "    def contains(self, value):\n",
    "        tempNode = self.root\n",
    "        \n",
    "        while tempNode:\n",
    "            if value < tempNode.value:\n",
    "                tempNode = tempNode.left\n",
    "            elif value > tempNode.value:\n",
    "                tempNode = tempNode.right\n",
    "            else:\n",
    "                return True\n",
    "        return False\n",
    "        \n",
    "    def minOfNode(self,currentNode):\n",
    "        while currentNode.left:\n",
    "            currentNode = currentNode.left\n",
    "        return currentNode\n",
    "    \n",
    "    def maxOfNode(self,currentNode):\n",
    "        while currentNode.right:\n",
    "            currentNode = currentNode.right\n",
    "        return currentNode\n",
    "    \n",
    "    def BFS(self):\n",
    "        currentNode = self.root\n",
    "        myQueue = []\n",
    "        values = []\n",
    "        myQueue.append(currentNode)\n",
    "\n",
    "        while len(myQueue) > 0:\n",
    "            currentNode = myQueue.pop(0)\n",
    "            values.append(currentNode.value)\n",
    "            if currentNode.left is not None:\n",
    "                myQueue.append(currentNode.left)\n",
    "            if currentNode.right is not None:\n",
    "                myQueue.append(currentNode.right)\n",
    "        return values\n",
    "    \n",
    "    def DFSPreOrder(self):\n",
    "        values = []\n",
    "        \n",
    "        def traverse(currentNode):\n",
    "            values.append(currentNode.value)\n",
    "            if currentNode.left is not None:\n",
    "                traverse(currentNode.left)\n",
    "            if currentNode.right is not None:\n",
    "                traverse(currentNode.right)\n",
    "        traverse(self.root)\n",
    "        \n",
    "        return values\n",
    "    \n",
    "    def DFSPostOrder(self):\n",
    "        values = []\n",
    "        \n",
    "        def traverse(currentNode):\n",
    "            if currentNode.left is not None:\n",
    "                traverse(currentNode.left)\n",
    "            if currentNode.right is not None:\n",
    "                traverse(currentNode.right)\n",
    "            values.append(currentNode.value)\n",
    "        traverse(self.root)\n",
    "        return values\n",
    "    \n",
    "    def DFSInOrder(self):\n",
    "        values = []\n",
    "        \n",
    "        def traverse(currentNode):\n",
    "            if currentNode.left is not None:\n",
    "                traverse(currentNode.left)\n",
    "            values.append(currentNode.value) \n",
    "            if currentNode.right is not None:\n",
    "                traverse(currentNode.right) \n",
    "        traverse(self.root)\n",
    "        return values"
   ]
  },
  {
   "cell_type": "code",
   "execution_count": 13,
   "metadata": {},
   "outputs": [
    {
     "data": {
      "text/plain": [
       "True"
      ]
     },
     "execution_count": 13,
     "metadata": {},
     "output_type": "execute_result"
    }
   ],
   "source": [
    "myTree = BinarySearchTree()\n",
    "myTree.insert(38)\n",
    "myTree.insert(19)\n",
    "myTree.insert(69)\n",
    "myTree.insert(12)\n",
    "myTree.insert(24)\n",
    "myTree.insert(59)\n",
    "myTree.insert(95)"
   ]
  },
  {
   "cell_type": "code",
   "execution_count": 14,
   "metadata": {},
   "outputs": [
    {
     "data": {
      "text/plain": [
       "[38, 19, 69, 12, 24, 59, 95]"
      ]
     },
     "execution_count": 14,
     "metadata": {},
     "output_type": "execute_result"
    }
   ],
   "source": [
    "myTree.BFS()"
   ]
  },
  {
   "cell_type": "code",
   "execution_count": 15,
   "metadata": {},
   "outputs": [
    {
     "data": {
      "text/plain": [
       "[38, 19, 12, 24, 69, 59, 95]"
      ]
     },
     "execution_count": 15,
     "metadata": {},
     "output_type": "execute_result"
    }
   ],
   "source": [
    "myTree.DFSPreOrder()"
   ]
  },
  {
   "cell_type": "code",
   "execution_count": 16,
   "metadata": {},
   "outputs": [
    {
     "data": {
      "text/plain": [
       "[12, 24, 19, 59, 95, 69, 38]"
      ]
     },
     "execution_count": 16,
     "metadata": {},
     "output_type": "execute_result"
    }
   ],
   "source": [
    "myTree.DFSPostOrder()"
   ]
  },
  {
   "cell_type": "code",
   "execution_count": 17,
   "metadata": {},
   "outputs": [
    {
     "data": {
      "text/plain": [
       "[12, 19, 24, 38, 59, 69, 95]"
      ]
     },
     "execution_count": 17,
     "metadata": {},
     "output_type": "execute_result"
    }
   ],
   "source": [
    "myTree.DFSInOrder()"
   ]
  },
  {
   "cell_type": "code",
   "execution_count": 18,
   "metadata": {},
   "outputs": [],
   "source": [
    "# There are 3 major implementations of DFS where we change the order of appending the value to the stack. \n",
    "# In either case you can clearly see the order of BFS and DFS traversing the nodes."
   ]
  },
  {
   "cell_type": "markdown",
   "metadata": {},
   "source": [
    "In BFS and DFS, we consider any of the neighbours as the next node. So both BFS and DFS traverse without considering any cost function.\n",
    "\n",
    "If we use a priority queue or heap to store the costs of nodes that have the lowest evaluation function value we can create a Best First Search algorithm which evaluates the cost as well."
   ]
  },
  {
   "cell_type": "markdown",
   "metadata": {},
   "source": [
    "# Best First Search Implementation"
   ]
  },
  {
   "cell_type": "code",
   "execution_count": 27,
   "metadata": {},
   "outputs": [
    {
     "name": "stdout",
     "output_type": "stream",
     "text": [
      "[[(1, 3), (2, 6), (3, 5)], [(0, 3), (4, 9), (5, 8)], [(0, 6), (6, 12), (7, 14)], [(0, 5), (8, 7)], [(1, 9)], [(1, 8)], [(2, 12)], [(2, 14)], [(3, 7), (9, 5), (10, 6)], [(8, 5), (11, 1), (12, 10), (13, 2)], [(8, 6)], [(9, 1)], [(9, 10)], [(9, 2)]]\n",
      "0 1 3 2 8 9 "
     ]
    }
   ],
   "source": [
    "from queue import PriorityQueue\n",
    "\n",
    "v = 14\n",
    "graph = [[] for i in range(v)]\n",
    "  \n",
    "def bestFirstSearch(source, target, n):\n",
    "    visited = [False] * n\n",
    "    pq = PriorityQueue()\n",
    "    pq.put((0, source))\n",
    "    visited[source] = True\n",
    "     \n",
    "    while pq.empty() == False:\n",
    "        u = pq.get()[1]\n",
    "        print(u, end=\" \")\n",
    "        if u == target:\n",
    "            break\n",
    " \n",
    "        for v, c in graph[u]:\n",
    "            if visited[v] == False:\n",
    "                visited[v] = True\n",
    "                pq.put((c, v))\n",
    "\n",
    "def addedge(x, y, cost):\n",
    "    graph[x].append((y, cost))\n",
    "    graph[y].append((x, cost))\n",
    " \n",
    " \n",
    "addedge(0, 1, 3)\n",
    "addedge(0, 2, 6)\n",
    "addedge(0, 3, 5)\n",
    "addedge(1, 4, 9)\n",
    "addedge(1, 5, 8)\n",
    "addedge(2, 6, 12)\n",
    "addedge(2, 7, 14)\n",
    "addedge(3, 8, 7)\n",
    "addedge(8, 9, 5)\n",
    "addedge(8, 10, 6)\n",
    "addedge(9, 11, 1)\n",
    "addedge(9, 12, 10)\n",
    "addedge(9, 13, 2)\n",
    "\n",
    "print(graph)\n",
    " \n",
    "source = 0\n",
    "target = 9\n",
    "\n",
    "\n",
    "bestFirstSearch(source, target, v)"
   ]
  },
  {
   "cell_type": "code",
   "execution_count": null,
   "metadata": {},
   "outputs": [],
   "source": []
  },
  {
   "cell_type": "code",
   "execution_count": null,
   "metadata": {},
   "outputs": [],
   "source": []
  }
 ],
 "metadata": {
  "kernelspec": {
   "display_name": "Python 3",
   "language": "python",
   "name": "python3"
  },
  "language_info": {
   "codemirror_mode": {
    "name": "ipython",
    "version": 3
   },
   "file_extension": ".py",
   "mimetype": "text/x-python",
   "name": "python",
   "nbconvert_exporter": "python",
   "pygments_lexer": "ipython3",
   "version": "3.8.5"
  }
 },
 "nbformat": 4,
 "nbformat_minor": 4
}
